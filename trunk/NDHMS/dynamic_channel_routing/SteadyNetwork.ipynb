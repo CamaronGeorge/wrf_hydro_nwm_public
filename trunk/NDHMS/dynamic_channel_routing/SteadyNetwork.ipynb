{
 "cells": [
  {
   "cell_type": "code",
   "execution_count": null,
   "metadata": {
    "colab": {},
    "colab_type": "code",
    "id": "deUYvdo-xlch"
   },
   "outputs": [],
   "source": [
    "from __future__ import division\n",
    "import DynamicNetwork\n",
    "import SteadyNetwork\n",
    "import matplotlib.pyplot as plt\n",
    "from math import ceil\n",
    "import pandas as pd\n",
    "\n",
    "def main():\n",
    "    # network = DummyNetwork()\n",
    "    # network = SimpleFlowTrace() #DongHa's method. \n",
    "    network = SteadyNetwork.SteadyNetwork()\n",
    "    # network = MuskCNetwork()\n",
    "    # network = MESHDNetwork()\n",
    "\n",
    "    network.input_and_initialize()\n",
    "\n",
    "    network.compute_initial_state()\n",
    "    network.compute_time_steps() \n",
    "\n",
    "    cols_for_subplots = 4\n",
    "    fig, axes = plt.subplots(nrows=ceil(len(network.sections)/cols_for_subplots), ncols=cols_for_subplots, squeeze=False)\n",
    "\n",
    "    #TODO: make plotting another method within the network\n",
    "    for i, section in enumerate(network.sections):\n",
    "        '''Section Hydrograph Plots'''\n",
    "        a = pd.Series(time_step.depth for i, time_step in enumerate(section.time_steps))\n",
    "        # print(m, n)\n",
    "        m = i//cols_for_subplots\n",
    "        n = i%cols_for_subplots \n",
    "        a.plot(ax = axes[m,n])\n",
    "        \n",
    "    cols_for_subplots = 4\n",
    "    fig2, axes2 = plt.subplots(nrows=ceil(len(network.sections[0].time_steps)/cols_for_subplots), ncols=cols_for_subplots, squeeze=False)\n",
    "\n",
    "    #TODO: make plotting another method within the network\n",
    "    for j, time_step in enumerate(network.sections[0].time_steps):\n",
    "        '''Profile Plots'''\n",
    "        b = pd.Series(section.bottom_z + section.time_steps[j].depth for i, section in enumerate(network.sections))\n",
    "        # print(m, n)\n",
    "        m = j//cols_for_subplots\n",
    "        n = j%cols_for_subplots \n",
    "        b.plot(ax = axes2[m,n])\n",
    "\n",
    "    cols_for_subplots = 4\n",
    "    fig3, axes3 = plt.subplots(nrows=ceil(len(network.sections[0].time_steps)/cols_for_subplots), ncols=cols_for_subplots, squeeze=False)\n",
    "        \n",
    "    #TODO: make plotting another method within the network\n",
    "    for j, time_step in enumerate(network.sections[0].time_steps):\n",
    "        '''Profile Plots'''\n",
    "        c = pd.Series(section.time_steps[j].depth for i, section in enumerate(network.sections))\n",
    "        # print(m, n)\n",
    "        m = j//cols_for_subplots\n",
    "        n = j%cols_for_subplots \n",
    "        c.plot(ax = axes3[m,n])\n",
    "        \n",
    "    #TODO: Use this generator to create a get_depths method of some kind within the Network class.\n",
    "    #      Such a method could replace the a = pd.Series... and b = pd.Series... lines in the code above.\n",
    "    elevations = [[section.bottom_z + section.time_steps[j].depth for section in network.sections] for j, _ in enumerate(network.sections[0].time_steps)]\n",
    "    depths = [[section.time_steps[j].depth for section in network.sections] for j, _ in enumerate(network.sections[0].time_steps)]\n",
    "    #print(depths)\n",
    "\n",
    "    return \n",
    "\n",
    "if __name__ == \"__main__\":\n",
    "    main()\n"
   ]
  },
  {
   "cell_type": "code",
   "execution_count": null,
   "metadata": {},
   "outputs": [],
   "source": []
  }
 ],
 "metadata": {
  "colab": {
   "name": "SteadyNetwork",
   "provenance": [],
   "version": "0.3.2"
  },
  "kernelspec": {
   "display_name": "Python 3",
   "language": "python",
   "name": "python3"
  },
  "language_info": {
   "codemirror_mode": {
    "name": "ipython",
    "version": 3
   },
   "file_extension": ".py",
   "mimetype": "text/x-python",
   "name": "python",
   "nbconvert_exporter": "python",
   "pygments_lexer": "ipython3",
   "version": "3.7.3"
  }
 },
 "nbformat": 4,
 "nbformat_minor": 1
}
